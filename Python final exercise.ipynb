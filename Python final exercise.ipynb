{
 "cells": [
  {
   "cell_type": "code",
   "execution_count": null,
   "metadata": {},
   "outputs": [],
   "source": [
    "tuple=(1,2,3)"
   ]
  },
  {
   "cell_type": "code",
   "execution_count": null,
   "metadata": {},
   "outputs": [],
   "source": [
    "tuple"
   ]
  },
  {
   "cell_type": "code",
   "execution_count": null,
   "metadata": {},
   "outputs": [],
   "source": [
    "len(tuple)"
   ]
  },
  {
   "cell_type": "code",
   "execution_count": null,
   "metadata": {},
   "outputs": [],
   "source": [
    "list1=['a','b','c','d']"
   ]
  },
  {
   "cell_type": "code",
   "execution_count": null,
   "metadata": {},
   "outputs": [],
   "source": [
    "list1"
   ]
  },
  {
   "cell_type": "code",
   "execution_count": null,
   "metadata": {},
   "outputs": [],
   "source": [
    "print(list1)"
   ]
  },
  {
   "cell_type": "code",
   "execution_count": null,
   "metadata": {},
   "outputs": [],
   "source": [
    "type(list1)"
   ]
  },
  {
   "cell_type": "code",
   "execution_count": null,
   "metadata": {},
   "outputs": [],
   "source": [
    "len(list1)"
   ]
  },
  {
   "cell_type": "code",
   "execution_count": null,
   "metadata": {},
   "outputs": [],
   "source": [
    "list1[0]"
   ]
  },
  {
   "cell_type": "code",
   "execution_count": null,
   "metadata": {},
   "outputs": [],
   "source": [
    "print(list1[0])\n",
    "#有print沒引號"
   ]
  },
  {
   "cell_type": "code",
   "execution_count": null,
   "metadata": {},
   "outputs": [],
   "source": [
    "print(list[-1])\n",
    "#字串裡面附號為從1開始"
   ]
  },
  {
   "cell_type": "code",
   "execution_count": null,
   "metadata": {},
   "outputs": [],
   "source": [
    "#lice(切片)只能由左到右\n",
    "print(list1[0:3])\n",
    "#print0~(3-1)位置的數字\n",
    "print(list1[3:0])\n",
    "#不能由又到左\n",
    "list[0:3]"
   ]
  },
  {
   "cell_type": "code",
   "execution_count": null,
   "metadata": {},
   "outputs": [],
   "source": [
    "print(list1[-4:-2])\n",
    "print(list1[-3:-4])\n",
    "#一樣不能右到左"
   ]
  },
  {
   "cell_type": "code",
   "execution_count": null,
   "metadata": {},
   "outputs": [],
   "source": [
    "list1"
   ]
  },
  {
   "cell_type": "code",
   "execution_count": null,
   "metadata": {},
   "outputs": [],
   "source": [
    "list[1]=3\n",
    "#沒有結果\n"
   ]
  },
  {
   "cell_type": "code",
   "execution_count": null,
   "metadata": {},
   "outputs": [],
   "source": [
    "list1"
   ]
  },
  {
   "cell_type": "code",
   "execution_count": null,
   "metadata": {},
   "outputs": [],
   "source": [
    "list1.append('e')\n",
    "#沒有結果\n",
    "#加在字串的最後面"
   ]
  },
  {
   "cell_type": "code",
   "execution_count": null,
   "metadata": {},
   "outputs": [],
   "source": [
    "list1"
   ]
  },
  {
   "cell_type": "code",
   "execution_count": null,
   "metadata": {},
   "outputs": [],
   "source": [
    "list1.insert(3,'g')\n",
    "#不會有結果出來\n",
    "#在指定位置插入數字"
   ]
  },
  {
   "cell_type": "code",
   "execution_count": null,
   "metadata": {},
   "outputs": [],
   "source": [
    "list1"
   ]
  },
  {
   "cell_type": "code",
   "execution_count": null,
   "metadata": {},
   "outputs": [],
   "source": [
    "list1=['a', 'b', 'c', 'g', 'd', 'e']\n",
    "\n",
    "#指定值刪除\n",
    "list1.remove('d')\n",
    "#不會輸出結果"
   ]
  },
  {
   "cell_type": "code",
   "execution_count": null,
   "metadata": {},
   "outputs": [],
   "source": [
    "list1"
   ]
  },
  {
   "cell_type": "code",
   "execution_count": null,
   "metadata": {},
   "outputs": [],
   "source": [
    "#指定位置刪除\n",
    "list1.pop(2)\n",
    "###有輸出結果!!!!!!!!!!!顯示被刪除的字"
   ]
  },
  {
   "cell_type": "code",
   "execution_count": null,
   "metadata": {},
   "outputs": [],
   "source": [
    "list1"
   ]
  },
  {
   "cell_type": "code",
   "execution_count": null,
   "metadata": {},
   "outputs": [],
   "source": [
    "print('e'in list1)"
   ]
  },
  {
   "cell_type": "code",
   "execution_count": null,
   "metadata": {},
   "outputs": [],
   "source": [
    "print('f'in list1)"
   ]
  },
  {
   "cell_type": "code",
   "execution_count": null,
   "metadata": {},
   "outputs": [],
   "source": [
    "list1=['a','b','c','d']"
   ]
  },
  {
   "cell_type": "code",
   "execution_count": 3,
   "metadata": {},
   "outputs": [
    {
     "name": "stdout",
     "output_type": "stream",
     "text": [
      "i= 0 list2= a\n",
      "a\n",
      "i= 1 list2= b\n",
      "b\n",
      "i= 2 list2= c\n",
      "c\n",
      "i= 3 list2= d\n",
      "d\n"
     ]
    }
   ],
   "source": [
    "list2=['a','b','c','d']\n",
    "for i in range(0,len(list2)):\n",
    "    print('i=',i,'list2=',list2[i])\n",
    "    print(list2[i])"
   ]
  },
  {
   "cell_type": "code",
   "execution_count": 4,
   "metadata": {},
   "outputs": [
    {
     "name": "stdout",
     "output_type": "stream",
     "text": [
      "a\n",
      "b\n",
      "c\n",
      "d\n"
     ]
    }
   ],
   "source": [
    "for j in list2:\n",
    "    print(j)"
   ]
  },
  {
   "cell_type": "code",
   "execution_count": 5,
   "metadata": {},
   "outputs": [
    {
     "name": "stdout",
     "output_type": "stream",
     "text": [
      "i= a list3= ['a']\n",
      "i= b list3= ['a', 'b']\n",
      "i= c list3= ['a', 'b', 'c']\n",
      "i= d list3= ['a', 'b', 'c', 'd']\n"
     ]
    },
    {
     "data": {
      "text/plain": [
       "['a', 'b', 'c', 'd']"
      ]
     },
     "execution_count": 5,
     "metadata": {},
     "output_type": "execute_result"
    }
   ],
   "source": [
    "list3=[]\n",
    "for i in list2:\n",
    "    list3.append(i)\n",
    "    print('i=',i,'list3=',list3)\n",
    "list3\n",
    "#把list2抓進list3"
   ]
  },
  {
   "cell_type": "code",
   "execution_count": 9,
   "metadata": {},
   "outputs": [],
   "source": [
    "def get_list(list4):\n",
    "    list4=[]\n",
    "    for i in list2:\n",
    "        list4.append(i)\n",
    "    return(list4)\n",
    "#無輸出結果"
   ]
  },
  {
   "cell_type": "code",
   "execution_count": 15,
   "metadata": {},
   "outputs": [
    {
     "data": {
      "text/plain": [
       "['a', 'b', 'c', 'd']"
      ]
     },
     "execution_count": 15,
     "metadata": {},
     "output_type": "execute_result"
    }
   ],
   "source": [
    "list9=['a','c']\n",
    "get_list(list9)\n",
    "#直接替換"
   ]
  },
  {
   "cell_type": "code",
   "execution_count": 17,
   "metadata": {},
   "outputs": [
    {
     "name": "stdout",
     "output_type": "stream",
     "text": [
      "i= [0, 1, 2, 3]\n",
      "j= 0 list4= [0]\n",
      "j= 1 list4= [0, 1]\n",
      "j= 2 list4= [0, 1, 2]\n",
      "j= 3 list4= [0, 1, 2, 3]\n",
      "i= [4, 5, 6]\n",
      "j= 4 list4= [0, 1, 2, 3, 4]\n",
      "j= 5 list4= [0, 1, 2, 3, 4, 5]\n",
      "j= 6 list4= [0, 1, 2, 3, 4, 5, 6]\n",
      "i= [7, 8, 9, 10]\n",
      "j= 7 list4= [0, 1, 2, 3, 4, 5, 6, 7]\n",
      "j= 8 list4= [0, 1, 2, 3, 4, 5, 6, 7, 8]\n",
      "j= 9 list4= [0, 1, 2, 3, 4, 5, 6, 7, 8, 9]\n",
      "j= 10 list4= [0, 1, 2, 3, 4, 5, 6, 7, 8, 9, 10]\n"
     ]
    },
    {
     "data": {
      "text/plain": [
       "[0, 1, 2, 3, 4, 5, 6, 7, 8, 9, 10]"
      ]
     },
     "execution_count": 17,
     "metadata": {},
     "output_type": "execute_result"
    }
   ],
   "source": [
    "list3=[[0,1,2,3],[4,5,6],[7,8,9,10]]\n",
    "\n",
    "list4=[]\n",
    "for i in list3:\n",
    "    print('i=',i)\n",
    "    for j in i:\n",
    "        list4.append(j)\n",
    "        print('j=',j,'list4=',list4)\n",
    "list4"
   ]
  },
  {
   "cell_type": "code",
   "execution_count": 24,
   "metadata": {},
   "outputs": [
    {
     "name": "stdout",
     "output_type": "stream",
     "text": [
      "i= [0, 1, 2, 3]\n",
      "j= 0 list6= [0]\n",
      "j= 1 list6= [0, 1]\n",
      "j= 2 list6= [0, 1, 2]\n",
      "j= 3 list6= [0, 1, 2, 3]\n",
      "i= 4\n",
      "i= 4 list6= [0, 1, 2, 3, 4]\n",
      "i= [5, 6, 7]\n",
      "j= 5 list6= [0, 1, 2, 3, 4, 5]\n",
      "j= 6 list6= [0, 1, 2, 3, 4, 5, 6]\n",
      "j= 7 list6= [0, 1, 2, 3, 4, 5, 6, 7]\n",
      "i= [8, 9]\n",
      "j= 8 list6= [0, 1, 2, 3, 4, 5, 6, 7, 8]\n",
      "j= 9 list6= [0, 1, 2, 3, 4, 5, 6, 7, 8, 9]\n",
      "i= 10\n",
      "i= 10 list6= [0, 1, 2, 3, 4, 5, 6, 7, 8, 9, 10]\n"
     ]
    },
    {
     "data": {
      "text/plain": [
       "[0, 1, 2, 3, 4, 5, 6, 7, 8, 9, 10]"
      ]
     },
     "execution_count": 24,
     "metadata": {},
     "output_type": "execute_result"
    }
   ],
   "source": [
    "list5=[[0,1,2,3],4,[5,6,7],[8,9],10]\n",
    "\n",
    "list6=[]\n",
    "for i in list5:\n",
    "    print('i=',i)\n",
    "    if type(i) is int:\n",
    "        list6.append(i)\n",
    "        print('i=',i,'list6=',list6)\n",
    "    else:\n",
    "         for j in i:\n",
    "            list6.append(j)\n",
    "            print('j=',j,'list6=',list6) \n",
    "list6"
   ]
  },
  {
   "cell_type": "code",
   "execution_count": null,
   "metadata": {},
   "outputs": [],
   "source": []
  }
 ],
 "metadata": {
  "kernelspec": {
   "display_name": "Python 3",
   "language": "python",
   "name": "python3"
  },
  "language_info": {
   "codemirror_mode": {
    "name": "ipython",
    "version": 3
   },
   "file_extension": ".py",
   "mimetype": "text/x-python",
   "name": "python",
   "nbconvert_exporter": "python",
   "pygments_lexer": "ipython3",
   "version": "3.8.5"
  }
 },
 "nbformat": 4,
 "nbformat_minor": 4
}
