{
 "cells": [
  {
   "cell_type": "code",
   "execution_count": null,
   "metadata": {},
   "outputs": [],
   "source": [
    "import os\n",
    "os.getcwd()"
   ]
  },
  {
   "cell_type": "code",
   "execution_count": null,
   "metadata": {},
   "outputs": [],
   "source": [
    "#p3-29 實作題"
   ]
  },
  {
   "cell_type": "code",
   "execution_count": 2,
   "metadata": {},
   "outputs": [
    {
     "name": "stdout",
     "output_type": "stream",
     "text": [
      "Please enter height:23.5\n",
      "Please enter weight:19\n",
      "perimeter=85.00\n",
      "area= 446.5\n"
     ]
    }
   ],
   "source": [
    "#1\n",
    "height=eval(input('Please enter height:'))\n",
    "weight=eval(input('Please enter weight:'))\n",
    "print('perimeter=%.2f'%((height+weight)*2))\n",
    "print('area=',height*weight)\n"
   ]
  },
  {
   "cell_type": "code",
   "execution_count": 3,
   "metadata": {},
   "outputs": [
    {
     "name": "stdout",
     "output_type": "stream",
     "text": [
      "Please enter side:10\n",
      "area= 43.30127018922193\n",
      "height= 8.660254037844386\n"
     ]
    }
   ],
   "source": [
    "#2\n",
    "import math\n",
    "side=eval(input('Please enter side:'))\n",
    "print('area=',side*side*math.sqrt(3)/4)\n",
    "print('height=',side*math.sqrt(3)/2)"
   ]
  },
  {
   "cell_type": "code",
   "execution_count": 4,
   "metadata": {},
   "outputs": [
    {
     "name": "stdout",
     "output_type": "stream",
     "text": [
      "Please enter the time in minute:10\n",
      "Please enter the time in second:25\n",
      "Please enter the distance in km:3\n",
      "speed= 10.8 miles/hour\n"
     ]
    }
   ],
   "source": [
    "#3\n",
    "time1=eval(input('Please enter the time in minute:'))\n",
    "time2=eval(input('Please enter the time in second:'))\n",
    "distance=eval(input('Please enter the distance in km:'))\n",
    "speed=(distance/1.6)/(((time1*60)+time2)/3600)\n",
    "print('speed=',speed,'miles/hour')\n"
   ]
  },
  {
   "cell_type": "code",
   "execution_count": 5,
   "metadata": {},
   "outputs": [
    {
     "name": "stdout",
     "output_type": "stream",
     "text": [
      "Please enter distance in km:10\n",
      "mile= 6.25\n"
     ]
    }
   ],
   "source": [
    "#4\n",
    "km=eval(input('Please enter distance in km:'))\n",
    "mile=km/1.6\n",
    "print('mile=',mile)"
   ]
  },
  {
   "cell_type": "code",
   "execution_count": 6,
   "metadata": {},
   "outputs": [
    {
     "name": "stdout",
     "output_type": "stream",
     "text": [
      "Please enter the F-tempture32\n",
      "攝氏溫度為: 0.0\n"
     ]
    }
   ],
   "source": [
    "#5\n",
    "F=eval(input('Please enter the F-tempture'))\n",
    "C=(F-32)*5/9\n",
    "print('攝氏溫度為:',C)\n"
   ]
  },
  {
   "cell_type": "code",
   "execution_count": 7,
   "metadata": {},
   "outputs": [
    {
     "name": "stdout",
     "output_type": "stream",
     "text": [
      "Please enter integer1:1\n",
      "Please enter integer2:2\n",
      "Please enter integer3:3\n",
      "sum= 6\n",
      "average= 2.0\n"
     ]
    }
   ],
   "source": [
    "#6\n",
    "num1=eval(input('Please enter integer1:'))\n",
    "num2=eval(input('Please enter integer2:'))\n",
    "num3=eval(input('Please enter integer3:'))\n",
    "sum=num1+num2+num3\n",
    "average=(num1+num2+num3)/3\n",
    "print('sum=',sum)\n",
    "print('average=',average)\n"
   ]
  },
  {
   "cell_type": "code",
   "execution_count": 8,
   "metadata": {},
   "outputs": [
    {
     "name": "stdout",
     "output_type": "stream",
     "text": [
      "Please enter your name:leyley\n",
      "Please enter your home place:New Taipei City\n",
      "Please enter your student number:A109230022\n",
      "leyley A109230022 New Taipei City\n"
     ]
    }
   ],
   "source": [
    "#7\n",
    "name=input('Please enter your name:')\n",
    "place=input('Please enter your home place:')\n",
    "number=input('Please enter your student number:')\n",
    "print(name,number,place)\n"
   ]
  },
  {
   "cell_type": "code",
   "execution_count": 9,
   "metadata": {},
   "outputs": [
    {
     "name": "stdout",
     "output_type": "stream",
     "text": [
      "Please enter the radius:5\n",
      "area=78.54\n",
      "side=31.42\n"
     ]
    }
   ],
   "source": [
    "#8\n",
    "import math\n",
    "radius=eval(input('Please enter the radius:'))\n",
    "area=math.pow(radius,2)*math.pi\n",
    "side=radius*2*math.pi\n",
    "print('area=%.2f'%(area))\n",
    "print('side=%.2f'%(side))\n"
   ]
  },
  {
   "cell_type": "code",
   "execution_count": 10,
   "metadata": {},
   "outputs": [
    {
     "name": "stdout",
     "output_type": "stream",
     "text": [
      "Please enter the height:10\n",
      "Please enter the weight:2\n",
      "area= 20\n",
      "side= 24\n"
     ]
    }
   ],
   "source": [
    "#9\n",
    "height=eval(input('Please enter the height:'))\n",
    "weight=eval(input('Please enter the weight:'))\n",
    "area=height*weight\n",
    "side=(height+weight)*2\n",
    "print('area=',area)\n",
    "print('side=',side)\n"
   ]
  },
  {
   "cell_type": "code",
   "execution_count": 14,
   "metadata": {},
   "outputs": [
    {
     "name": "stdout",
     "output_type": "stream",
     "text": [
      "Please enter a number as x:5\n",
      "Please enter a number as y:4\n",
      "answer is : 71.3\n"
     ]
    }
   ],
   "source": [
    "#10\n",
    "x=eval(input('Please enter a number as x:'))\n",
    "y=eval(input('Please enter a number as y:'))\n",
    "ans=((3+4*x)/5)-(10*(y-5)*(x+y+5)/x)+9*(4/x+(9+x)/y)\n",
    "print('answer is :',ans)"
   ]
  },
  {
   "cell_type": "code",
   "execution_count": 1,
   "metadata": {},
   "outputs": [
    {
     "name": "stdout",
     "output_type": "stream",
     "text": [
      "Please enter a number as a:1\n",
      "Please enter a number as b:2\n",
      "Please enter a number as c:3\n",
      "answer is: -14.619047619047622\n"
     ]
    }
   ],
   "source": [
    "#11\n",
    "a=eval(input('Please enter a number as a:'))\n",
    "b=eval(input('Please enter a number as b:'))\n",
    "c=eval(input('Please enter a number as c:'))\n",
    "ans=4/3*(a+34)-9*(a+b*c)+(3+3*(2+a))/(a+3*b)\n",
    "print('answer is:',ans)\n"
   ]
  },
  {
   "cell_type": "code",
   "execution_count": null,
   "metadata": {},
   "outputs": [],
   "source": [
    "#4-18實作題"
   ]
  },
  {
   "cell_type": "code",
   "execution_count": 6,
   "metadata": {},
   "outputs": [
    {
     "name": "stdout",
     "output_type": "stream",
     "text": [
      "請輸入邊數:5\n",
      "請輸入邊長:6.5\n",
      "面積=72.69\n"
     ]
    }
   ],
   "source": [
    "#1\n",
    "import math\n",
    "n=eval(input('請輸入邊數:'))\n",
    "s=eval(input('請輸入邊長:'))\n",
    "area=(n*math.pow(s,2))/(4*math.tan(math.pi/n))\n",
    "print('面積=%.2f'%(area))"
   ]
  },
  {
   "cell_type": "code",
   "execution_count": 12,
   "metadata": {},
   "outputs": [
    {
     "name": "stdout",
     "output_type": "stream",
     "text": [
      "請輸入座標1(x1,y1):2,1\n",
      "請輸入座標1(x2,y2):5.5,8\n",
      "兩點距離為: 7.826237921249264\n"
     ]
    }
   ],
   "source": [
    "#2\n",
    "import math\n",
    "x1,y1=eval(input('請輸入座標1(x1,y1):'))\n",
    "x2,y2=eval(input('請輸入座標1(x2,y2):'))\n",
    "distance=math.sqrt(math.pow((x1-x2),2)+math.pow((y1-y2),2))\n",
    "print('兩點距離為:',distance)\n"
   ]
  },
  {
   "cell_type": "code",
   "execution_count": 15,
   "metadata": {},
   "outputs": [
    {
     "name": "stdout",
     "output_type": "stream",
     "text": [
      "請輸入三角形三邊長(a,b,c):3,4,5\n",
      "面積為: 6.0\n"
     ]
    }
   ],
   "source": [
    "#3\n",
    "import math\n",
    "a,b,c=eval(input('請輸入三角形三邊長(a,b,c):'))\n",
    "s=(a+b+c)/2\n",
    "area=math.sqrt(s*(s-a)*(s-b)*(s-c))\n",
    "print('面積為:',area)"
   ]
  },
  {
   "cell_type": "code",
   "execution_count": 18,
   "metadata": {},
   "outputs": [
    {
     "name": "stdout",
     "output_type": "stream",
     "text": [
      "請輸入三系數:3,10,5\n",
      "此二元一次方程式的根為: -5.513167019494862 -24.48683298050514\n"
     ]
    }
   ],
   "source": [
    "#4\n",
    "import math\n",
    "a,b,c=eval(input('請輸入三系數:'))\n",
    "D=math.pow(b,2)-4*a*c\n",
    "ans1=(-b+(math.sqrt(D)))/2*a\n",
    "ans2=(-b-(math.sqrt(D)))/2*a\n",
    "print('此二元一次方程式的根為:',ans1,ans2)"
   ]
  },
  {
   "cell_type": "code",
   "execution_count": 1,
   "metadata": {},
   "outputs": [
    {
     "name": "stdout",
     "output_type": "stream",
     "text": [
      "請輸入點1的經度及緯度,東經及南緯以複數表示:39.55,-116.24\n",
      "請輸入點2的經度及緯度,東經及南緯以複數表示:41.5,87.37\n",
      "大圓面積為: 15604.932312486775 km\n"
     ]
    }
   ],
   "source": [
    "#5 #!!!!\n",
    "import math\n",
    "x1,y1=eval(input('請輸入點1的經度及緯度,東經及南緯以複數表示:'))\n",
    "x2,y2=eval(input('請輸入點2的經度及緯度,東經及南緯以複數表示:'))\n",
    "radius=6371.01 #km\n",
    "d=radius*math.acos(math.sin(x1)*math.sin(x2)+math.cos(x1)*math.cos(x2)*math.cos(y1-y2))\n",
    "print('大圓面積為:',d,'km')"
   ]
  },
  {
   "cell_type": "code",
   "execution_count": 23,
   "metadata": {},
   "outputs": [],
   "source": [
    "#5-46"
   ]
  },
  {
   "cell_type": "code",
   "execution_count": 24,
   "metadata": {},
   "outputs": [
    {
     "name": "stdout",
     "output_type": "stream",
     "text": [
      "請輸入消費金額:10000\n",
      "實付金額為: 9500.0\n"
     ]
    }
   ],
   "source": [
    "#1\n",
    "money=eval(input('請輸入消費金額:'))\n",
    "if money >=5000:\n",
    "    money=money*0.95\n",
    "elif money >=15000:\n",
    "    money=money*0.9\n",
    "elif money >=25000:\n",
    "    money=money*0.85\n",
    "elif money >=35000:\n",
    "    money=money*0.8\n",
    "else:\n",
    "    money=money*1\n",
    "print('實付金額為:',money)"
   ]
  },
  {
   "cell_type": "code",
   "execution_count": 29,
   "metadata": {},
   "outputs": [
    {
     "name": "stdout",
     "output_type": "stream",
     "text": [
      "請輸入月份:1\n",
      "1 月為春天\n"
     ]
    }
   ],
   "source": [
    "#2\n",
    "season=eval(input('請輸入月份:'))\n",
    "if season <=3 and season>=1:\n",
    "    print(season,'月為春天')\n",
    "elif season <=6 and season>=4:\n",
    "    print(season,'月為夏天')\n",
    "elif season <=9 and season>=7:\n",
    "    print(season,'月為秋天')\n",
    "elif season <=12 and season>=10:\n",
    "    print(season,'月為冬天')\n",
    "else:\n",
    "    print('哈瞜? 只有12個月餒 你是活在平行時空嗎?')"
   ]
  },
  {
   "cell_type": "code",
   "execution_count": 2,
   "metadata": {},
   "outputs": [
    {
     "name": "stdout",
     "output_type": "stream",
     "text": [
      "歡迎光臨要你命遊樂園^_^,請輸入年齡:46\n",
      "成人票890元,有錢人就是不一樣,不用工作:)\n"
     ]
    }
   ],
   "source": [
    "#3\n",
    "age=eval(input('歡迎光臨要你命遊樂園^_^,請輸入年齡:'))\n",
    "if age <=5 and age >=0:\n",
    "    print('屁孩免費入場喔')\n",
    "elif age <=11 and age>=6:\n",
    "    print('兒童票590元,刷卡還是付現?')\n",
    "elif age <=17 and age>=12:\n",
    "    print('青少年票790元,刷卡還是付現?付不起你可以滾了:)')\n",
    "elif age <=59 and age>=18:\n",
    "    print('成人票890元,有錢人就是不一樣,不用工作:)')\n",
    "elif age >=60:\n",
    "    print('敬老票399元,老人是能玩啥設施?-?')\n",
    "else:\n",
    "    print('你是外星人嗎???')\n"
   ]
  },
  {
   "cell_type": "code",
   "execution_count": 4,
   "metadata": {},
   "outputs": [
    {
     "name": "stdout",
     "output_type": "stream",
     "text": [
      "請輸入一個整數:5\n",
      "5 是5的倍數\n"
     ]
    }
   ],
   "source": [
    "#4\n",
    "num1=eval(input('請輸入一個整數:'))\n",
    "if num1 %3==0:\n",
    "    print(num1,'是3的倍數')\n",
    "elif num1%5==0:\n",
    "    print(num1,'是5的倍數')\n",
    "elif num1%3==0 and num1%5==0:\n",
    "    print(num1,'是3和5的公倍數')\n",
    "else:\n",
    "    print(num,'不是3或5的倍數')\n"
   ]
  },
  {
   "cell_type": "code",
   "execution_count": 43,
   "metadata": {},
   "outputs": [
    {
     "name": "stdout",
     "output_type": "stream",
     "text": [
      "請輸入一個字元:a\n",
      "a 是一個小寫字母\n"
     ]
    }
   ],
   "source": [
    "#5 #!!!!!\n",
    "x=input('請輸入一個字元:')\n",
    "if x.isalpha()==True:\n",
    "    if x.islower()==True:\n",
    "        print(x,\"是一個小寫字母\")\n",
    "    if x.isupper()==True:\n",
    "        print(x,\"是一個大寫字母\")\n",
    "elif x.isdigit()==True:\n",
    "    print(x,\"是一個數字\")\n",
    "else:\n",
    "    print(x,\"是一個特殊字元\")\n",
    "#str.isalpha=判斷字串是否全部都為字母\n",
    "#str.islower=判斷是否為小寫\n",
    "#str.isupper=判斷是否為大寫\n",
    "#str.isdigit=判斷是否為數字"
   ]
  },
  {
   "cell_type": "code",
   "execution_count": 9,
   "metadata": {},
   "outputs": [
    {
     "name": "stdout",
     "output_type": "stream",
     "text": [
      "請輸入全年收入:56666\n",
      "您的綜合所得稅為: 2833.3 元\n"
     ]
    }
   ],
   "source": [
    "#6\n",
    "money=eval(input('請輸入全年收入:'))\n",
    "tax=0\n",
    "if money<=540000 and money>=0:\n",
    "    tax=money*0.05\n",
    "elif money <=1210000 and money >=540001:\n",
    "    tax=money*0.12-37800\n",
    "elif money<=2420000 and money>=1210001:\n",
    "    tax=money*0.2-134600\n",
    "elif money<=4530000 and money>=2420001:\n",
    "    tax=money*0.3-376600\n",
    "elif money<=10310000 and money >=4530001:\n",
    "    tax=money*0.4-829600\n",
    "elif money>=10310001:\n",
    "    tax=money*0.45-1345100\n",
    "else:\n",
    "    print('喔哇 你好窮(´･ω･`)')\n",
    "print('您的綜合所得稅為:',tax,'元')\n",
    "\n"
   ]
  },
  {
   "cell_type": "code",
   "execution_count": 13,
   "metadata": {},
   "outputs": [
    {
     "name": "stdout",
     "output_type": "stream",
     "text": [
      "請輸入一個點(x1,y1):5,6\n",
      "此點在以(0,0)為圓心半徑為10的圓之內\n"
     ]
    }
   ],
   "source": [
    "#7\n",
    "import math\n",
    "x1,y1=eval(input('請輸入一個點(x1,y1):'))\n",
    "if math.sqrt((math.pow((x1-0),2))+(math.pow((y1-0),2)))>10:\n",
    "    print('此點在以(0,0)為圓心半徑為10的圓之外')\n",
    "elif math.sqrt((math.pow((x1-0),2))+(math.pow((y1-0),2)))==10:\n",
    "    print('此點在以(0,0)為圓心半徑為10的圓之上')\n",
    "else:\n",
    "    print('此點在以(0,0)為圓心半徑為10的圓之內')\n",
    "    \n"
   ]
  },
  {
   "cell_type": "code",
   "execution_count": 23,
   "metadata": {},
   "outputs": [
    {
     "name": "stdout",
     "output_type": "stream",
     "text": [
      "請輸入一個四位數:5678\n",
      "5678 不是一個迴文數字\n"
     ]
    }
   ],
   "source": [
    "#8 #!!!!!\n",
    "x=eval(input('請輸入一個四位數:'))\n",
    "a=int(x/1000) #int(x)=取X的整數位\n",
    "b=int((x-a*1000)/100)\n",
    "c=int((x-a*1000-b*100)/10)\n",
    "d=int((x-a*1000-b*100-c*10))\n",
    "if a==d and b==c:\n",
    "    print(x,'是一個迴文數字')\n",
    "else:\n",
    "    print(x,'不是一個迴文數字')\n"
   ]
  },
  {
   "cell_type": "code",
   "execution_count": 16,
   "metadata": {},
   "outputs": [
    {
     "name": "stdout",
     "output_type": "stream",
     "text": [
      "請輸入三角形的三邊長(a,b,c):3,4,5\n",
      "面積為: 36.0\n"
     ]
    }
   ],
   "source": [
    "#9\n",
    "a,b,c=eval(input('請輸入三角形的三邊長(a,b,c):'))\n",
    "s=(a+b+c)/2\n",
    "if a+b>c :\n",
    "    area=s*(s-a)*(s-b)*(s-c)\n",
    "print('面積為:',area)\n",
    "    "
   ]
  },
  {
   "cell_type": "code",
   "execution_count": 18,
   "metadata": {},
   "outputs": [
    {
     "name": "stdout",
     "output_type": "stream",
     "text": [
      "Is your birthday in set1?\n",
      "1 3 5 7\n",
      "9 11 13 15\n",
      "17 19 21 23\n",
      "25 27 29 31\n",
      "\n",
      "Enter 1 for yes and 0 for no:0\n",
      "Is your birthday in set2?\n",
      "2 3 6 7\n",
      "10 11 14 15\n",
      "18 19 22 23\n",
      "26 27 30 31\n",
      "\n",
      "Enter 1 for yes and 0 for no:1\n",
      "Is your birthday in set3?\n",
      "4 5 6 7\n",
      "12 13 14 15\n",
      "20 21 22 23\n",
      "28 29 30 31\n",
      "\n",
      "Enter 1 for yes and 0 for no:1\n",
      "Is your birthday in set4?\n",
      "8 9 10 11\n",
      "12 13 14 15\n",
      "24 25 26 27\n",
      "28 29 30 31\n",
      "\n",
      "Enter 1 for yes and 0 for no:0\n",
      "Is your birthday in set5?\n",
      "16 17 18 19\n",
      "20 21 22 23\n",
      "24 25 26 27\n",
      "28 29 30 31\n",
      "\n",
      "Enter 1 for yes and 0 for no:1\n",
      "Your birthday is 22\n"
     ]
    }
   ],
   "source": [
    "#10\n",
    "day=0\n",
    "ques1='Is your birthday in set1?\\n'+\\\n",
    "    '1 3 5 7\\n'+\\\n",
    "    '9 11 13 15\\n'+\\\n",
    "    '17 19 21 23\\n'+\\\n",
    "    '25 27 29 31\\n'+\\\n",
    "    '\\nEnter 1 for yes and 0 for no:'\n",
    "answer=eval(input(ques1))\n",
    "if answer ==1:\n",
    "    day=day+1\n",
    "ques2='Is your birthday in set2?\\n'+\\\n",
    "    '2 3 6 7\\n'+\\\n",
    "    '10 11 14 15\\n'+\\\n",
    "    '18 19 22 23\\n'+\\\n",
    "    '26 27 30 31\\n'+\\\n",
    "    '\\nEnter 1 for yes and 0 for no:'\n",
    "answer=eval(input(ques2))\n",
    "if answer ==1:\n",
    "    day=day+2\n",
    "ques3='Is your birthday in set3?\\n'+\\\n",
    "    '4 5 6 7\\n'+\\\n",
    "    '12 13 14 15\\n'+\\\n",
    "    '20 21 22 23\\n'+\\\n",
    "    '28 29 30 31\\n'+\\\n",
    "    '\\nEnter 1 for yes and 0 for no:'\n",
    "answer=eval(input(ques3))\n",
    "if answer ==1:\n",
    "    day=day+4\n",
    "ques4='Is your birthday in set4?\\n'+\\\n",
    "    '8 9 10 11\\n'+\\\n",
    "    '12 13 14 15\\n'+\\\n",
    "    '24 25 26 27\\n'+\\\n",
    "    '28 29 30 31\\n'+\\\n",
    "    '\\nEnter 1 for yes and 0 for no:'\n",
    "answer=eval(input(ques4))\n",
    "if answer ==1:\n",
    "    day=day+8\n",
    "ques5='Is your birthday in set5?\\n'+\\\n",
    "    '16 17 18 19\\n'+\\\n",
    "    '20 21 22 23\\n'+\\\n",
    "    '24 25 26 27\\n'+\\\n",
    "    '28 29 30 31\\n'+\\\n",
    "    '\\nEnter 1 for yes and 0 for no:'\n",
    "answer=eval(input(ques5))\n",
    "if answer ==1:\n",
    "    day=day+16\n",
    "print('Your birthday is',day)"
   ]
  },
  {
   "cell_type": "code",
   "execution_count": 45,
   "metadata": {},
   "outputs": [],
   "source": [
    "#6-54"
   ]
  },
  {
   "cell_type": "code",
   "execution_count": 2,
   "metadata": {},
   "outputs": [
    {
     "name": "stdout",
     "output_type": "stream",
     "text": [
      "99\n"
     ]
    }
   ],
   "source": [
    "#1\n",
    "num=0\n",
    "for i in range(1,100,2):\n",
    "    num=num+i/(i+2)\n",
    "print(i)"
   ]
  },
  {
   "cell_type": "code",
   "execution_count": 5,
   "metadata": {},
   "outputs": [
    {
     "name": "stdout",
     "output_type": "stream",
     "text": [
      "請輸入員工人數:5\n",
      "請輸入銷售金額:20000\n",
      "wages are: 27600.0\n",
      "請輸入銷售金額:20000\n",
      "wages are: 27600.0\n",
      "請輸入銷售金額:50000\n",
      "wages are: 42000.0\n",
      "請輸入銷售金額:0\n",
      "You are fired!\n",
      "wages are: 0\n"
     ]
    }
   ],
   "source": [
    "#2\n",
    "k=eval(input('請輸入員工人數:'))\n",
    "wages=0\n",
    "money=0\n",
    "for i in range(1,k):\n",
    "    money=eval(input('請輸入銷售金額:'))\n",
    "    if money<=5000 and money>=0.01:\n",
    "        wages=(money*0.1+6000)*people\n",
    "    elif money<=10000 and money>=5001:\n",
    "        wages=(money*0.12+6000)*people\n",
    "    elif money<=15000 and money>=10001:\n",
    "        wages=(money*0.14+6000)*people\n",
    "    elif money>=15001:\n",
    "        wages=(money*0.16+6000)*people\n",
    "    else:\n",
    "        wages=0\n",
    "        print('You are fired!')\n",
    "    print('wages are:',wages)"
   ]
  },
  {
   "cell_type": "code",
   "execution_count": 57,
   "metadata": {},
   "outputs": [
    {
     "name": "stdout",
     "output_type": "stream",
     "text": [
      "11.579323839415952\n",
      "10.07932383941597\n"
     ]
    }
   ],
   "source": [
    "#3\n",
    "n=0\n",
    "for i in range(1,60001):\n",
    "    n=n +1/i\n",
    "print(n)\n",
    "\n",
    "m=0\n",
    "for j in range(60000,2,-1):\n",
    "    m= m +1/j\n",
    "print(m)"
   ]
  },
  {
   "cell_type": "code",
   "execution_count": 3,
   "metadata": {},
   "outputs": [
    {
     "name": "stdout",
     "output_type": "stream",
     "text": [
      "0.31792497542858666\n"
     ]
    }
   ],
   "source": [
    "#4\n",
    "num=0\n",
    "for i in range(2,201):\n",
    "    num=num+1/((i**(1/2))+(i+1)**(1/2))-1/((i+1)**(1/2)+(i+2)**(1/2))\n",
    "num=num+1/((200**(1/2))+201**(1/2))    \n",
    "print(num)"
   ]
  },
  {
   "cell_type": "code",
   "execution_count": 59,
   "metadata": {},
   "outputs": [
    {
     "name": "stdout",
     "output_type": "stream",
     "text": [
      "15\n"
     ]
    }
   ],
   "source": [
    "#5\n",
    "total=52800\n",
    "year=0\n",
    "while True:\n",
    "    total=total*1.02\n",
    "    year+=1\n",
    "    if total>=70000:\n",
    "        break\n",
    "print(year)\n",
    "    "
   ]
  },
  {
   "cell_type": "code",
   "execution_count": 77,
   "metadata": {},
   "outputs": [
    {
     "name": "stdout",
     "output_type": "stream",
     "text": [
      " 2004 2008 2012 2016 2020\n",
      " 2024 2028 2032 2036 2040\n",
      " 2044 2048 2052 2056 2060\n",
      " 2064 2068 2072 2076 2080\n",
      " 2084 2088 2092 2096"
     ]
    }
   ],
   "source": [
    "#6\n",
    "count=0\n",
    "for year in range(2001,2101):\n",
    "    if year%400==0 or (year%4==0 and year%100!=0):\n",
    "        count+=1\n",
    "        if count %5==0:\n",
    "            print('%5d'%(year))\n",
    "        else:\n",
    "            print('%5d'%(year),end='')\n",
    "       "
   ]
  },
  {
   "cell_type": "code",
   "execution_count": null,
   "metadata": {},
   "outputs": [],
   "source": [
    "#7 #!!!!!\n",
    "a = 0\n",
    "b = 0\n",
    "c = 0\n",
    "d = 0 #廢票\n",
    "for i in range(0,10):\n",
    "    name = input(\"總共有a,b,c三位候選人:\")\n",
    "    if name == 'a':\n",
    "        a += 1\n",
    "    elif name == 'b':\n",
    "        b += 1\n",
    "    elif name == 'c':\n",
    "        c += 1\n",
    "    else:\n",
    "        d += 1\n",
    "    print('a = ',a,'b = ',b,'c = ',c,'廢票 =',d)"
   ]
  },
  {
   "cell_type": "code",
   "execution_count": 69,
   "metadata": {},
   "outputs": [
    {
     "name": "stdout",
     "output_type": "stream",
     "text": [
      "偶數有 50 個\n",
      "奇數有 50 個\n"
     ]
    }
   ],
   "source": [
    "#8\n",
    "even=0\n",
    "odd=0\n",
    "import random\n",
    "for i in range(1,101):\n",
    "    random.randint(1,200)\n",
    "    if i %2==0:\n",
    "        even+=1\n",
    "    else:\n",
    "        odd+=1\n",
    "print('偶數有',even,'個')\n",
    "print('奇數有',odd,'個')\n",
    "    \n"
   ]
  },
  {
   "cell_type": "code",
   "execution_count": 2,
   "metadata": {},
   "outputs": [
    {
     "name": "stdout",
     "output_type": "stream",
     "text": [
      "請輸入分數:50\n",
      "平均為: 50.0\n",
      "請輸入分數:50\n",
      "平均為: 50.0\n",
      "請輸入分數:50\n",
      "平均為: 50.0\n",
      "請輸入分數:-1\n"
     ]
    }
   ],
   "source": [
    "#9\n",
    "people=0\n",
    "total=0\n",
    "while True:\n",
    "    score=eval(input('請輸入分數:'))\n",
    "    people+=1\n",
    "    if score==-1:\n",
    "        people-=1\n",
    "        score+=1\n",
    "        break\n",
    "    total=total+score\n",
    "    average=total/people\n",
    "    print('平均為:',average)\n",
    "    "
   ]
  },
  {
   "cell_type": "code",
   "execution_count": 76,
   "metadata": {},
   "outputs": [
    {
     "name": "stdout",
     "output_type": "stream",
     "text": [
      "請輸入年分1:1993\n",
      "請輸入年分2:1993\n",
      "兩者都不是閏年\n"
     ]
    }
   ],
   "source": [
    "#10\n",
    "year1=eval(input('請輸入年分1:'))\n",
    "year2=eval(input('請輸入年分2:'))\n",
    "if year1%400==0 or (year1%4==0 and year1%100!=0):\n",
    "    print(year1,'為閏年')\n",
    "elif year2%400==0 or (year2%4==0 and year2%100!=0):\n",
    "    print(year2,'為閏年')\n",
    "elif (year2%400==0 or (year2%4==0 and year2%100!=0)) and (year1%400==0 or (year1%4==0 and year1%100!=0)):\n",
    "    print(year1,year2,'都是閏年')\n",
    "else:\n",
    "    print('兩者都不是閏年')"
   ]
  },
  {
   "cell_type": "code",
   "execution_count": null,
   "metadata": {},
   "outputs": [],
   "source": []
  },
  {
   "cell_type": "code",
   "execution_count": null,
   "metadata": {},
   "outputs": [],
   "source": []
  }
 ],
 "metadata": {
  "kernelspec": {
   "display_name": "Python 3",
   "language": "python",
   "name": "python3"
  },
  "language_info": {
   "codemirror_mode": {
    "name": "ipython",
    "version": 3
   },
   "file_extension": ".py",
   "mimetype": "text/x-python",
   "name": "python",
   "nbconvert_exporter": "python",
   "pygments_lexer": "ipython3",
   "version": "3.8.3"
  }
 },
 "nbformat": 4,
 "nbformat_minor": 4
}
